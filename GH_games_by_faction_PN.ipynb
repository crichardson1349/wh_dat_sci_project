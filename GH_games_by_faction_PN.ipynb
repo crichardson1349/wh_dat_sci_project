{
 "cells": [
  {
   "cell_type": "code",
   "execution_count": null,
   "id": "0f632638",
   "metadata": {},
   "outputs": [],
   "source": [
    "from selenium import webdriver\n",
    "import pandas as pd\n",
    "from bs4 import BeautifulSoup\n",
    "import time; time.sleep(5)\n",
    "from io import StringIO\n"
   ]
  },
  {
   "cell_type": "code",
   "execution_count": null,
   "id": "4753675f",
   "metadata": {},
   "outputs": [],
   "source": [
    "import math\n",
    "import numpy as np\n",
    "from scipy.stats import shapiro \n",
    "from scipy.stats import lognorm\n"
   ]
  },
  {
   "cell_type": "markdown",
   "id": "221a9293",
   "metadata": {},
   "source": [
    "# Importing Data Tables From Goonhammer"
   ]
  },
  {
   "cell_type": "code",
   "execution_count": 26,
   "id": "d77b734a",
   "metadata": {},
   "outputs": [],
   "source": [
    "url_dict = {\n",
    "    \"winPCT_faction\" : \"https://40kstats.goonhammer.com/#GbF\",\n",
    "    \"scoring_faction\" : \"https://40kstats.goonhammer.com/#SbF\",\n",
    "    \"mission_scoring\" : \"https://40kstats.goonhammer.com/#Ps\"\n",
    "}"
   ]
  },
  {
   "cell_type": "code",
   "execution_count": 25,
   "id": "75e7e3aa",
   "metadata": {},
   "outputs": [],
   "source": [
    "def fetch_tables(url_dict, wait_time=5):\n",
    "    results = {}\n",
    "\n",
    "    for name, url in url_dict.items():\n",
    "        print(f\"Fetching: {name} from {url}\")\n",
    "        \n",
    "        # Start WebDriver\n",
    "        driver = webdriver.Chrome()\n",
    "        driver.get(url)\n",
    "\n",
    "        # Wait for JavaScript content to load\n",
    "        time.sleep(wait_time)\n",
    "\n",
    "        # Parse HTML\n",
    "        soup = BeautifulSoup(driver.page_source, \"html.parser\")\n",
    "        html_io = StringIO(str(soup))\n",
    "        tables = pd.read_html(html_io)\n",
    "\n",
    "        driver.quit()\n",
    "\n",
    "        # Store first table in dictionary with the given name\n",
    "        results[name] = tables[0]\n",
    "\n",
    "    return results"
   ]
  },
  {
   "cell_type": "code",
   "execution_count": 27,
   "id": "5d2b7956",
   "metadata": {},
   "outputs": [
    {
     "name": "stdout",
     "output_type": "stream",
     "text": [
      "Fetching: winPCT_faction from https://40kstats.goonhammer.com/#GbF\n",
      "Fetching: scoring_faction from https://40kstats.goonhammer.com/#SbF\n",
      "Fetching: mission_scoring from https://40kstats.goonhammer.com/#Ps\n"
     ]
    }
   ],
   "source": [
    "dataframes = fetch_tables(url_dict)"
   ]
  },
  {
   "cell_type": "code",
   "execution_count": 28,
   "id": "54331afd",
   "metadata": {},
   "outputs": [],
   "source": [
    "winPCT_faction_df = dataframes[\"winPCT_faction\"]\n",
    "scoring_faction_df = dataframes[\"scoring_faction\"]\n",
    "mission_scoring_df = dataframes[\"mission_scoring\"]"
   ]
  },
  {
   "cell_type": "markdown",
   "id": "abe3e0db",
   "metadata": {},
   "source": [
    "# Checking Data Quality"
   ]
  },
  {
   "cell_type": "code",
   "execution_count": 8,
   "id": "d435c211",
   "metadata": {},
   "outputs": [],
   "source": [
    "def quality(df):\n",
    "    print(\"Shape:\", df.shape)\n",
    "    print(\"\\nColumn Types:\\n\", df.dtypes)\n",
    "    print(\"\\nMissing Values:\\n\", df.isnull().sum())\n",
    "    print(\"\\nDuplicate Rows:\", df.duplicated().sum())\n",
    "    print(\"\\nBasic Stats:\\n\", df.describe(include='all'))"
   ]
  },
  {
   "cell_type": "code",
   "execution_count": 33,
   "id": "7fc8efcb",
   "metadata": {},
   "outputs": [
    {
     "name": "stdout",
     "output_type": "stream",
     "text": [
      "Shape: (28, 9)\n",
      "\n",
      "Column Types:\n",
      " Faction        object\n",
      "Games           int64\n",
      "VP            float64\n",
      "Opp VP        float64\n",
      "Win %         float64\n",
      "Wins            int64\n",
      "Losses          int64\n",
      "Draws           int64\n",
      "Real Win %    float64\n",
      "dtype: object\n",
      "\n",
      "Missing Values:\n",
      " Faction       0\n",
      "Games         0\n",
      "VP            0\n",
      "Opp VP        0\n",
      "Win %         0\n",
      "Wins          0\n",
      "Losses        0\n",
      "Draws         0\n",
      "Real Win %    0\n",
      "dtype: int64\n",
      "\n",
      "Duplicate Rows: 0\n",
      "\n",
      "Basic Stats:\n",
      "                  Faction         Games         VP     Opp VP      Win %  \\\n",
      "count                 28     28.000000  28.000000  28.000000  28.000000   \n",
      "unique                28           NaN        NaN        NaN        NaN   \n",
      "top     Adepta Sororitas           NaN        NaN        NaN        NaN   \n",
      "freq                   1           NaN        NaN        NaN        NaN   \n",
      "mean                 NaN   7397.214286  59.820714  60.404286  48.402857   \n",
      "std                  NaN   3943.105923   2.628175   1.815300   4.180407   \n",
      "min                  NaN    509.000000  54.810000  57.520000  35.560000   \n",
      "25%                  NaN   4179.250000  58.095000  59.202500  46.355000   \n",
      "50%                  NaN   7898.500000  59.580000  60.040000  48.035000   \n",
      "75%                  NaN  10299.000000  61.345000  61.297500  50.260000   \n",
      "max                  NaN  15430.000000  65.680000  65.000000  56.400000   \n",
      "\n",
      "               Wins       Losses       Draws  Real Win %  \n",
      "count     28.000000    28.000000   28.000000   28.000000  \n",
      "unique          NaN          NaN         NaN         NaN  \n",
      "top             NaN          NaN         NaN         NaN  \n",
      "freq            NaN          NaN         NaN         NaN  \n",
      "mean    3631.142857  3631.142857  134.928571   48.395357  \n",
      "std     1991.816251  1923.091468   74.999718    4.269738  \n",
      "min      181.000000   320.000000    8.000000   35.450000  \n",
      "25%     2061.000000  1981.750000   73.000000   46.285000  \n",
      "50%     3826.000000  3486.000000  136.500000   47.995000  \n",
      "75%     4901.000000  5035.750000  196.250000   50.260000  \n",
      "max     7299.000000  8067.000000  269.000000   56.680000  \n"
     ]
    }
   ],
   "source": [
    "quality(winPCT_faction_df)"
   ]
  },
  {
   "cell_type": "code",
   "execution_count": 31,
   "id": "3de6066a",
   "metadata": {},
   "outputs": [
    {
     "name": "stdout",
     "output_type": "stream",
     "text": [
      "Shape: (28, 7)\n",
      "\n",
      "Column Types:\n",
      " Faction               object\n",
      "Player Primary       float64\n",
      "Player Tactical      float64\n",
      "Player Fixed         float64\n",
      "Opponent Primary     float64\n",
      "Opponent Tactical    float64\n",
      "Opponent Fixed       float64\n",
      "dtype: object\n",
      "\n",
      "Missing Values:\n",
      " Faction              0\n",
      "Player Primary       0\n",
      "Player Tactical      0\n",
      "Player Fixed         0\n",
      "Opponent Primary     0\n",
      "Opponent Tactical    0\n",
      "Opponent Fixed       0\n",
      "dtype: int64\n",
      "\n",
      "Duplicate Rows: 0\n",
      "\n",
      "Basic Stats:\n",
      "                  Faction  Player Primary  Player Tactical  Player Fixed  \\\n",
      "count                 28       28.000000        28.000000     28.000000   \n",
      "unique                28             NaN              NaN           NaN   \n",
      "top     Adepta Sororitas             NaN              NaN           NaN   \n",
      "freq                   1             NaN              NaN           NaN   \n",
      "mean                 NaN       30.737857        25.238929     22.092857   \n",
      "std                  NaN        1.445630         1.135499      2.416095   \n",
      "min                  NaN       28.170000        23.280000     17.760000   \n",
      "25%                  NaN       29.752500        24.307500     20.420000   \n",
      "50%                  NaN       30.490000        25.060000     22.500000   \n",
      "75%                  NaN       31.540000        25.712500     24.237500   \n",
      "max                  NaN       33.760000        28.290000     25.340000   \n",
      "\n",
      "        Opponent Primary  Opponent Tactical  Opponent Fixed  \n",
      "count          28.000000          28.000000       28.000000  \n",
      "unique               NaN                NaN             NaN  \n",
      "top                  NaN                NaN             NaN  \n",
      "freq                 NaN                NaN             NaN  \n",
      "mean           28.780357          23.847857       20.543929  \n",
      "std             1.135979           1.176030        2.891797  \n",
      "min            26.290000          22.530000       16.160000  \n",
      "25%            28.077500          22.985000       18.485000  \n",
      "50%            28.805000          23.680000       20.025000  \n",
      "75%            29.460000          24.077500       22.795000  \n",
      "max            31.930000          27.980000       26.870000  \n"
     ]
    }
   ],
   "source": [
    "quality(scoring_faction_df)"
   ]
  },
  {
   "cell_type": "code",
   "execution_count": 19,
   "id": "1efc559e",
   "metadata": {},
   "outputs": [
    {
     "name": "stdout",
     "output_type": "stream",
     "text": [
      "Shape: (63, 9)\n",
      "\n",
      "Column Types:\n",
      " Mission         object\n",
      "Deployment      object\n",
      "Games            int64\n",
      "Avg, Winner    float64\n",
      "Avg, Loser     float64\n",
      "Margin         float64\n",
      "Avg, Go 1st    float64\n",
      "Avg, Go 2nd    float64\n",
      "FTA            float64\n",
      "dtype: object\n",
      "\n",
      "Missing Values:\n",
      " Mission        0\n",
      "Deployment     0\n",
      "Games          0\n",
      "Avg, Winner    0\n",
      "Avg, Loser     0\n",
      "Margin         0\n",
      "Avg, Go 1st    0\n",
      "Avg, Go 2nd    0\n",
      "FTA            0\n",
      "dtype: int64\n",
      "\n",
      "Duplicate Rows: 0\n",
      "\n",
      "Basic Stats:\n",
      "                 Mission Deployment         Games  Avg, Winner  Avg, Loser  \\\n",
      "count                63         63     63.000000    63.000000   63.000000   \n",
      "unique                9          7           NaN          NaN         NaN   \n",
      "top     Burden Of Trust  All Games           NaN          NaN         NaN   \n",
      "freq                  7          9           NaN          NaN         NaN   \n",
      "mean                NaN        NaN   3265.714286    34.799841   19.334762   \n",
      "std                 NaN        NaN   4717.813003     4.643414    5.425489   \n",
      "min                 NaN        NaN     66.000000    24.950000    9.300000   \n",
      "25%                 NaN        NaN    386.500000    30.950000   15.060000   \n",
      "50%                 NaN        NaN    715.000000    35.180000   18.970000   \n",
      "75%                 NaN        NaN   4968.500000    38.760000   24.390000   \n",
      "max                 NaN        NaN  23020.000000    42.890000   28.680000   \n",
      "\n",
      "           Margin  Avg, Go 1st  Avg, Go 2nd        FTA  \n",
      "count   63.000000    63.000000    63.000000  63.000000  \n",
      "unique        NaN          NaN          NaN        NaN  \n",
      "top           NaN          NaN          NaN        NaN  \n",
      "freq          NaN          NaN          NaN        NaN  \n",
      "mean    15.464603    27.616825    26.494127   1.121746  \n",
      "std      1.666494     4.820210     5.256847   1.504089  \n",
      "min     13.070000    19.030000    15.530000  -1.860000  \n",
      "25%     14.035000    23.840000    22.385000   0.200000  \n",
      "50%     15.240000    27.690000    26.910000   0.850000  \n",
      "75%     16.315000    32.080000    31.070000   1.540000  \n",
      "max     19.590000    36.300000    35.640000   6.640000  \n"
     ]
    }
   ],
   "source": [
    "quality(mission_scoring_df)"
   ]
  },
  {
   "cell_type": "markdown",
   "id": "8783cdad",
   "metadata": {},
   "source": [
    "# Cleanup"
   ]
  },
  {
   "cell_type": "code",
   "execution_count": null,
   "id": "2722c738",
   "metadata": {},
   "outputs": [],
   "source": [
    "winPCT_faction_df[\"Win %\"] = winPCT_faction_df[\"Win %\"].str.replace('%', '').astype('float64')"
   ]
  },
  {
   "cell_type": "code",
   "execution_count": null,
   "id": "1e51179e",
   "metadata": {},
   "outputs": [],
   "source": [
    "scoring_faction_df['Faction'] = scoring_faction_df['Faction'].astype(str)"
   ]
  },
  {
   "cell_type": "code",
   "execution_count": null,
   "id": "01ee5d8a",
   "metadata": {},
   "outputs": [],
   "source": [
    "scoring_faction_df = scoring_faction_df.loc[:, ~scoring_faction_df.columns.str.contains('^Unnamed', na=False)]"
   ]
  },
  {
   "cell_type": "code",
   "execution_count": 18,
   "id": "202bc435",
   "metadata": {},
   "outputs": [],
   "source": [
    "mission_scoring_df['Mission'] = mission_scoring_df['Mission'].astype(str)\n",
    "mission_scoring_df['Deployment'] = mission_scoring_df['Deployment'].astype(str)"
   ]
  },
  {
   "cell_type": "markdown",
   "id": "a8411c5f",
   "metadata": {},
   "source": [
    "# Normality Testing"
   ]
  },
  {
   "cell_type": "code",
   "execution_count": 34,
   "id": "dc7a5a93",
   "metadata": {},
   "outputs": [],
   "source": [
    "def check_normality(df, alpha=0.05):\n",
    "    for col in df.select_dtypes(include='number').columns:\n",
    "        data = df[col].dropna()\n",
    "        if len(data) < 3:\n",
    "            print(f\"{col}: Not enough data for Shapiro test\")\n",
    "            continue\n",
    "        stat, p = shapiro(data)\n",
    "        if p > alpha:\n",
    "            print(f\"{col}:  Normally distributed (p = {p:.4f})\")\n",
    "        else:\n",
    "            print(f\"{col}:  Not normal (p = {p:.4f})\")"
   ]
  },
  {
   "cell_type": "code",
   "execution_count": 35,
   "id": "feebebde",
   "metadata": {},
   "outputs": [
    {
     "name": "stdout",
     "output_type": "stream",
     "text": [
      "Games:  Normally distributed (p = 0.3520)\n",
      "VP:  Normally distributed (p = 0.5298)\n",
      "Opp VP:  Not normal (p = 0.0394)\n",
      "Win %:  Normally distributed (p = 0.1924)\n",
      "Wins:  Normally distributed (p = 0.2318)\n",
      "Losses:  Normally distributed (p = 0.2747)\n",
      "Draws:  Normally distributed (p = 0.1679)\n",
      "Real Win %:  Normally distributed (p = 0.2283)\n"
     ]
    }
   ],
   "source": [
    "check_normality(winPCT_faction_df)"
   ]
  },
  {
   "cell_type": "code",
   "execution_count": 36,
   "id": "97a32bdb",
   "metadata": {},
   "outputs": [
    {
     "name": "stdout",
     "output_type": "stream",
     "text": [
      "Player Primary:  Normally distributed (p = 0.3538)\n",
      "Player Tactical:  Normally distributed (p = 0.2485)\n",
      "Player Fixed:  Normally distributed (p = 0.0619)\n",
      "Opponent Primary:  Normally distributed (p = 0.4756)\n",
      "Opponent Tactical:  Not normal (p = 0.0005)\n",
      "Opponent Fixed:  Normally distributed (p = 0.2501)\n"
     ]
    }
   ],
   "source": [
    "check_normality(scoring_faction_df)"
   ]
  },
  {
   "cell_type": "code",
   "execution_count": 37,
   "id": "ea821979",
   "metadata": {},
   "outputs": [
    {
     "name": "stdout",
     "output_type": "stream",
     "text": [
      "Games:  Not normal (p = 0.0000)\n",
      "Avg, Winner:  Normally distributed (p = 0.0810)\n",
      "Avg, Loser:  Not normal (p = 0.0423)\n",
      "Margin:  Not normal (p = 0.0029)\n",
      "Avg, Go 1st:  Not normal (p = 0.0208)\n",
      "Avg, Go 2nd:  Normally distributed (p = 0.1599)\n",
      "FTA:  Not normal (p = 0.0001)\n"
     ]
    }
   ],
   "source": [
    "check_normality(mission_scoring_df)"
   ]
  }
 ],
 "metadata": {
  "kernelspec": {
   "display_name": ".venv",
   "language": "python",
   "name": "python3"
  },
  "language_info": {
   "codemirror_mode": {
    "name": "ipython",
    "version": 3
   },
   "file_extension": ".py",
   "mimetype": "text/x-python",
   "name": "python",
   "nbconvert_exporter": "python",
   "pygments_lexer": "ipython3",
   "version": "3.13.5"
  }
 },
 "nbformat": 4,
 "nbformat_minor": 5
}
